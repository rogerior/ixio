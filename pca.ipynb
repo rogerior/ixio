{
 "cells": [
  {
   "cell_type": "markdown",
   "metadata": {},
   "source": [
    "# PCA - Principal Components Analysis\n",
    "***"
   ]
  },
  {
   "cell_type": "markdown",
   "metadata": {},
   "source": [
    "## 1 Dataset: EEG Eye State\n",
    "\n",
    "\n",
    "### 1.1 Description\n",
    "All data is from one continuous EEG measurement with the Emotiv EEG Neuroheadset. The duration of the measurement was 117 seconds. The eye state was detected via a camera during the EEG measurement and added later manually to the file after analysing the video frames. '1' indicates the eye-closed and '0' the eye-open state. All values are in chronological order with the first measured value at the top of the data.\n",
    "\n",
    "\n",
    "### 1.2 Link \n",
    "https://archive.ics.uci.edu/ml/datasets/EEG+Eye+State"
   ]
  },
  {
   "cell_type": "markdown",
   "metadata": {},
   "source": [
    "***\n",
    "## 2 Load libraries and dataset"
   ]
  },
  {
   "cell_type": "markdown",
   "metadata": {},
   "source": [
    "### 2.1 Import libraries"
   ]
  },
  {
   "cell_type": "code",
   "execution_count": 59,
   "metadata": {
    "collapsed": true
   },
   "outputs": [],
   "source": [
    "import pandas as pd\n",
    "import numpy as np\n",
    "import matplotlib.pyplot as plt\n",
    "from sklearn.decomposition import PCA\n",
    "from sklearn import linear_model\n",
    "from sklearn.pipeline import Pipeline\n",
    "from sklearn.model_selection import train_test_split\n",
    "from scipy.io import arff\n",
    "from sklearn.metrics import confusion_matrix, f1_score\n",
    "\n",
    "%matplotlib inline"
   ]
  },
  {
   "cell_type": "markdown",
   "metadata": {},
   "source": [
    "### 2.2 Load .csv file"
   ]
  },
  {
   "cell_type": "code",
   "execution_count": 60,
   "metadata": {},
   "outputs": [
    {
     "data": {
      "text/html": [
       "<div>\n",
       "<style>\n",
       "    .dataframe thead tr:only-child th {\n",
       "        text-align: right;\n",
       "    }\n",
       "\n",
       "    .dataframe thead th {\n",
       "        text-align: left;\n",
       "    }\n",
       "\n",
       "    .dataframe tbody tr th {\n",
       "        vertical-align: top;\n",
       "    }\n",
       "</style>\n",
       "<table border=\"1\" class=\"dataframe\">\n",
       "  <thead>\n",
       "    <tr style=\"text-align: right;\">\n",
       "      <th></th>\n",
       "      <th>AF3</th>\n",
       "      <th>F7</th>\n",
       "      <th>F3</th>\n",
       "      <th>FC5</th>\n",
       "      <th>T7</th>\n",
       "      <th>P7</th>\n",
       "      <th>O1</th>\n",
       "      <th>O2</th>\n",
       "      <th>P8</th>\n",
       "      <th>T8</th>\n",
       "      <th>FC6</th>\n",
       "      <th>F4</th>\n",
       "      <th>F8</th>\n",
       "      <th>AF4</th>\n",
       "      <th>eyeDetection</th>\n",
       "    </tr>\n",
       "  </thead>\n",
       "  <tbody>\n",
       "    <tr>\n",
       "      <th>0</th>\n",
       "      <td>4329.23</td>\n",
       "      <td>4009.23</td>\n",
       "      <td>4289.23</td>\n",
       "      <td>4148.21</td>\n",
       "      <td>4350.26</td>\n",
       "      <td>4586.15</td>\n",
       "      <td>4096.92</td>\n",
       "      <td>4641.03</td>\n",
       "      <td>4222.05</td>\n",
       "      <td>4238.46</td>\n",
       "      <td>4211.28</td>\n",
       "      <td>4280.51</td>\n",
       "      <td>4635.90</td>\n",
       "      <td>4393.85</td>\n",
       "      <td>b'0'</td>\n",
       "    </tr>\n",
       "    <tr>\n",
       "      <th>1</th>\n",
       "      <td>4324.62</td>\n",
       "      <td>4004.62</td>\n",
       "      <td>4293.85</td>\n",
       "      <td>4148.72</td>\n",
       "      <td>4342.05</td>\n",
       "      <td>4586.67</td>\n",
       "      <td>4097.44</td>\n",
       "      <td>4638.97</td>\n",
       "      <td>4210.77</td>\n",
       "      <td>4226.67</td>\n",
       "      <td>4207.69</td>\n",
       "      <td>4279.49</td>\n",
       "      <td>4632.82</td>\n",
       "      <td>4384.10</td>\n",
       "      <td>b'0'</td>\n",
       "    </tr>\n",
       "    <tr>\n",
       "      <th>2</th>\n",
       "      <td>4327.69</td>\n",
       "      <td>4006.67</td>\n",
       "      <td>4295.38</td>\n",
       "      <td>4156.41</td>\n",
       "      <td>4336.92</td>\n",
       "      <td>4583.59</td>\n",
       "      <td>4096.92</td>\n",
       "      <td>4630.26</td>\n",
       "      <td>4207.69</td>\n",
       "      <td>4222.05</td>\n",
       "      <td>4206.67</td>\n",
       "      <td>4282.05</td>\n",
       "      <td>4628.72</td>\n",
       "      <td>4389.23</td>\n",
       "      <td>b'0'</td>\n",
       "    </tr>\n",
       "    <tr>\n",
       "      <th>3</th>\n",
       "      <td>4328.72</td>\n",
       "      <td>4011.79</td>\n",
       "      <td>4296.41</td>\n",
       "      <td>4155.90</td>\n",
       "      <td>4343.59</td>\n",
       "      <td>4582.56</td>\n",
       "      <td>4097.44</td>\n",
       "      <td>4630.77</td>\n",
       "      <td>4217.44</td>\n",
       "      <td>4235.38</td>\n",
       "      <td>4210.77</td>\n",
       "      <td>4287.69</td>\n",
       "      <td>4632.31</td>\n",
       "      <td>4396.41</td>\n",
       "      <td>b'0'</td>\n",
       "    </tr>\n",
       "    <tr>\n",
       "      <th>4</th>\n",
       "      <td>4326.15</td>\n",
       "      <td>4011.79</td>\n",
       "      <td>4292.31</td>\n",
       "      <td>4151.28</td>\n",
       "      <td>4347.69</td>\n",
       "      <td>4586.67</td>\n",
       "      <td>4095.90</td>\n",
       "      <td>4627.69</td>\n",
       "      <td>4210.77</td>\n",
       "      <td>4244.10</td>\n",
       "      <td>4212.82</td>\n",
       "      <td>4288.21</td>\n",
       "      <td>4632.82</td>\n",
       "      <td>4398.46</td>\n",
       "      <td>b'0'</td>\n",
       "    </tr>\n",
       "  </tbody>\n",
       "</table>\n",
       "</div>"
      ],
      "text/plain": [
       "       AF3       F7       F3      FC5       T7       P7       O1       O2  \\\n",
       "0  4329.23  4009.23  4289.23  4148.21  4350.26  4586.15  4096.92  4641.03   \n",
       "1  4324.62  4004.62  4293.85  4148.72  4342.05  4586.67  4097.44  4638.97   \n",
       "2  4327.69  4006.67  4295.38  4156.41  4336.92  4583.59  4096.92  4630.26   \n",
       "3  4328.72  4011.79  4296.41  4155.90  4343.59  4582.56  4097.44  4630.77   \n",
       "4  4326.15  4011.79  4292.31  4151.28  4347.69  4586.67  4095.90  4627.69   \n",
       "\n",
       "        P8       T8      FC6       F4       F8      AF4 eyeDetection  \n",
       "0  4222.05  4238.46  4211.28  4280.51  4635.90  4393.85         b'0'  \n",
       "1  4210.77  4226.67  4207.69  4279.49  4632.82  4384.10         b'0'  \n",
       "2  4207.69  4222.05  4206.67  4282.05  4628.72  4389.23         b'0'  \n",
       "3  4217.44  4235.38  4210.77  4287.69  4632.31  4396.41         b'0'  \n",
       "4  4210.77  4244.10  4212.82  4288.21  4632.82  4398.46         b'0'  "
      ]
     },
     "execution_count": 60,
     "metadata": {},
     "output_type": "execute_result"
    }
   ],
   "source": [
    "data_arff = arff.loadarff('EEG Eye State.arff')\n",
    "dataset = pd.DataFrame(data_arff[0])\n",
    "\n",
    "# Show 5 rows\n",
    "dataset.head()"
   ]
  },
  {
   "cell_type": "markdown",
   "metadata": {},
   "source": [
    "***\n",
    "## 3 Prepare data"
   ]
  },
  {
   "cell_type": "markdown",
   "metadata": {},
   "source": [
    "### 3.1 Convert class attribute to binary"
   ]
  },
  {
   "cell_type": "code",
   "execution_count": 61,
   "metadata": {},
   "outputs": [
    {
     "data": {
      "text/plain": [
       "array([b'0', b'1'], dtype=object)"
      ]
     },
     "execution_count": 61,
     "metadata": {},
     "output_type": "execute_result"
    }
   ],
   "source": [
    "dataset.eyeDetection.unique()"
   ]
  },
  {
   "cell_type": "code",
   "execution_count": 62,
   "metadata": {},
   "outputs": [
    {
     "data": {
      "text/plain": [
       "array([ 0.,  1.])"
      ]
     },
     "execution_count": 62,
     "metadata": {},
     "output_type": "execute_result"
    }
   ],
   "source": [
    "dataset.loc[dataset['eyeDetection'] == b'0', 'Class'] = 0\n",
    "dataset.loc[dataset['eyeDetection'] == b'1', 'Class'] = 1\n",
    "dataset['eyeDetection'] = dataset['eyeDetection'].astype('int')\n",
    "dataset.Class.unique()"
   ]
  },
  {
   "cell_type": "markdown",
   "metadata": {},
   "source": [
    "### 3.2 Get X and y values"
   ]
  },
  {
   "cell_type": "code",
   "execution_count": 63,
   "metadata": {
    "collapsed": true
   },
   "outputs": [],
   "source": [
    "X = dataset.drop(['Class'], axis=1).values\n",
    "y = dataset['Class'].values"
   ]
  },
  {
   "cell_type": "markdown",
   "metadata": {},
   "source": [
    "### Get number of features"
   ]
  },
  {
   "cell_type": "code",
   "execution_count": 64,
   "metadata": {},
   "outputs": [],
   "source": [
    "number_features = len(dataset.columns) - 1 # Ignoring one atrribute (class)"
   ]
  },
  {
   "cell_type": "markdown",
   "metadata": {},
   "source": [
    "***\n",
    "## 4 PCA"
   ]
  },
  {
   "cell_type": "markdown",
   "metadata": {},
   "source": [
    "### 4.1 Initialize and fit"
   ]
  },
  {
   "cell_type": "code",
   "execution_count": 65,
   "metadata": {},
   "outputs": [
    {
     "data": {
      "text/plain": [
       "PCA(copy=True, iterated_power='auto', n_components=15, random_state=None,\n",
       "  svd_solver='auto', tol=0.0, whiten=False)"
      ]
     },
     "execution_count": 65,
     "metadata": {},
     "output_type": "execute_result"
    }
   ],
   "source": [
    "pca=PCA(n_components=number_features)                                    \n",
    "pca.fit(X)                                "
   ]
  },
  {
   "cell_type": "markdown",
   "metadata": {},
   "source": [
    "### 4.2 Evalute Components"
   ]
  },
  {
   "cell_type": "code",
   "execution_count": 66,
   "metadata": {},
   "outputs": [
    {
     "data": {
      "text/plain": [
       "array([[  5.25240792e-03,  -1.27627096e-03,  -3.54546256e-03,\n",
       "          6.27521049e-01,   3.05507771e-03,   2.01115624e-01,\n",
       "          5.54911491e-01,   8.72138692e-04,   1.80722083e-03,\n",
       "         -1.27948558e-03,   1.40393599e-03,   1.92270620e-03,\n",
       "         -3.16778450e-03,   5.07711128e-01,  -6.64854499e-07],\n",
       "       [  5.10014470e-04,   4.99584957e-04,  -2.51987227e-03,\n",
       "         -4.08728842e-01,   5.76585496e-04,   4.05252337e-01,\n",
       "         -3.57512255e-01,   5.39756838e-04,  -5.85833607e-03,\n",
       "          3.80198421e-03,  -2.29549884e-03,  -3.02593798e-03,\n",
       "         -4.60949528e-03,   7.35393999e-01,  -1.81115902e-07],\n",
       "       [  7.12490055e-01,   3.46356760e-03,   6.14483755e-03,\n",
       "         -7.67013574e-04,   2.66534951e-03,  -6.18108715e-04,\n",
       "         -8.00006405e-03,   3.36929208e-04,   6.10728558e-01,\n",
       "         -7.19169415e-04,   6.15887314e-03,  -4.73144473e-03,\n",
       "          3.45223281e-01,   2.57989129e-03,   1.49387473e-06],\n",
       "       [ -6.23603834e-02,   5.33485757e-01,   2.72959908e-01,\n",
       "         -5.26445857e-02,  -1.57847885e-01,  -1.98750337e-02,\n",
       "          5.73763407e-02,   3.65917227e-01,   2.42172178e-01,\n",
       "          3.52182657e-01,   2.10674787e-01,   3.88741676e-01,\n",
       "         -3.05667759e-01,   1.05073920e-02,  -6.92952390e-05],\n",
       "       [ -1.38459049e-01,  -7.92388615e-02,  -2.73777877e-01,\n",
       "         -3.89006227e-02,  -3.02098705e-01,   1.44919798e-01,\n",
       "          5.77495964e-02,  -5.75777723e-03,   4.84892936e-01,\n",
       "         -1.56684012e-01,  -3.89748484e-01,  -2.30899343e-01,\n",
       "         -5.58516847e-01,  -7.49483315e-02,  -1.19146525e-03],\n",
       "       [  3.54871727e-01,   5.51177853e-01,   3.32901339e-02,\n",
       "          1.82286336e-01,  -1.67737536e-01,  -2.72264615e-01,\n",
       "         -2.31694096e-01,  -3.11150468e-01,  -3.00278044e-01,\n",
       "         -2.68145074e-01,  -2.34017672e-01,  -6.46432575e-02,\n",
       "         -2.09442050e-01,   1.35250507e-01,  -1.20139125e-03],\n",
       "       [  1.75700247e-02,  -3.55392292e-01,  -1.30546037e-01,\n",
       "         -1.30845566e-01,  -6.00228125e-01,  -5.64804311e-01,\n",
       "          9.31614864e-02,  -3.26614903e-02,  -3.73522160e-02,\n",
       "          9.13169027e-02,   1.22695623e-01,   2.06627408e-01,\n",
       "          3.99342751e-02,   2.84803226e-01,   3.24725550e-03],\n",
       "       [  1.88915576e-01,  -4.98652399e-01,   5.17728791e-01,\n",
       "          3.50226777e-01,   1.74695740e-02,   3.38246286e-02,\n",
       "         -3.94978066e-01,   1.39218064e-01,  -4.70027930e-02,\n",
       "          3.51341492e-02,  -1.39741126e-01,   1.60820862e-01,\n",
       "         -3.14646524e-01,  -1.64408482e-02,   2.97025610e-03],\n",
       "       [ -3.58020772e-01,   1.31137451e-01,  -1.82269307e-01,\n",
       "          4.85302446e-01,  -2.12046239e-01,  -1.63651027e-02,\n",
       "         -5.50104208e-01,  -3.81541115e-02,   2.41319273e-01,\n",
       "          1.77995358e-01,   1.60279913e-01,  -1.77344229e-01,\n",
       "          2.98870986e-01,   1.36888211e-02,  -3.53776332e-03],\n",
       "       [ -2.40837920e-01,   1.07235825e-01,   2.71921490e-01,\n",
       "         -5.09363198e-02,  -1.65215108e-01,  -3.60828549e-02,\n",
       "          5.77476390e-02,   2.93080304e-01,   1.91280667e-02,\n",
       "         -1.70692266e-01,  -6.79171319e-01,   1.45156624e-01,\n",
       "          4.73026970e-01,   2.30654342e-02,   7.23234888e-04],\n",
       "       [  8.93061636e-02,  -1.58393222e-02,  -1.19321017e-01,\n",
       "         -2.32271480e-02,   1.18897482e-01,  -2.51479464e-02,\n",
       "          2.92937264e-02,  -2.80764141e-01,  -9.15396676e-02,\n",
       "          8.19862712e-01,  -4.48345204e-01,  -2.78949149e-02,\n",
       "         -1.08902508e-02,   8.29222051e-03,   2.75321547e-03],\n",
       "       [ -1.26111738e-01,  -2.58270318e-03,   3.51544561e-01,\n",
       "         -6.00683690e-02,  -3.39595385e-01,   3.65932397e-01,\n",
       "          1.04688776e-01,  -6.86441531e-01,   9.09861424e-02,\n",
       "         -4.01523164e-02,   9.71301680e-02,   2.52178681e-01,\n",
       "          1.02300907e-01,  -1.79166624e-01,  -4.34902569e-03],\n",
       "       [ -3.01909368e-01,   1.37508183e-02,   3.67476665e-01,\n",
       "         -8.29522661e-02,   4.31842461e-01,  -4.91148298e-01,\n",
       "          4.50840921e-02,  -2.99081096e-01,   3.85555693e-01,\n",
       "         -5.99314208e-02,   6.60649829e-03,  -1.65166704e-01,\n",
       "         -7.30987197e-02,   2.50073668e-01,   9.79369254e-03],\n",
       "       [  7.82747204e-02,   3.44824025e-02,   4.29251914e-01,\n",
       "         -1.12786433e-01,  -3.26864239e-01,   4.74132250e-02,\n",
       "          1.39274634e-01,   1.48241060e-01,  -1.24565181e-01,\n",
       "          1.78119955e-01,   1.29849993e-01,  -7.60668770e-01,\n",
       "          4.40808656e-02,  -2.39265851e-02,  -2.85685828e-03],\n",
       "       [  9.31558471e-04,   3.62280077e-03,  -2.73813492e-03,\n",
       "          1.60073200e-03,  -6.27379037e-03,   8.15316949e-03,\n",
       "         -9.91585153e-04,   1.30558781e-04,  -2.15067808e-03,\n",
       "         -1.46834644e-03,   2.30721209e-03,  -1.58899047e-03,\n",
       "          1.89824299e-03,  -4.08973293e-03,   9.99917074e-01]])"
      ]
     },
     "execution_count": 66,
     "metadata": {},
     "output_type": "execute_result"
    }
   ],
   "source": [
    "PCA(copy=True, n_components=None, whiten=False)\n",
    "pca.components_"
   ]
  },
  {
   "cell_type": "markdown",
   "metadata": {},
   "source": [
    "### 4.3 Explained Variance Ratio"
   ]
  },
  {
   "cell_type": "code",
   "execution_count": 67,
   "metadata": {},
   "outputs": [
    {
     "data": {
      "text/plain": [
       "array([  5.05244699e-01,   3.76936308e-01,   1.17729459e-01,\n",
       "         4.59941146e-05,   1.92789195e-05,   1.12325971e-05,\n",
       "         6.78650046e-06,   1.88972802e-06,   1.54090217e-06,\n",
       "         8.24290182e-07,   7.00441776e-07,   6.27146768e-07,\n",
       "         3.47734149e-07,   3.09558675e-07,   2.17645330e-09])"
      ]
     },
     "execution_count": 67,
     "metadata": {},
     "output_type": "execute_result"
    }
   ],
   "source": [
    "pca.explained_variance_ratio_"
   ]
  },
  {
   "cell_type": "markdown",
   "metadata": {},
   "source": [
    "### 4.3 Explained Variance"
   ]
  },
  {
   "cell_type": "code",
   "execution_count": 68,
   "metadata": {},
   "outputs": [
    {
     "data": {
      "text/plain": [
       "array([  5.24881589e+07,   3.91586352e+07,   1.22305144e+07,\n",
       "         4.77817264e+03,   2.00282159e+03,   1.16691643e+03,\n",
       "         7.05026526e+02,   1.96317438e+02,   1.60079103e+02,\n",
       "         8.56327125e+01,   7.27665215e+01,   6.51521516e+01,\n",
       "         3.61249218e+01,   3.21590013e+01,   2.26104355e-01])"
      ]
     },
     "execution_count": 68,
     "metadata": {},
     "output_type": "execute_result"
    }
   ],
   "source": [
    "pca.explained_variance_"
   ]
  },
  {
   "cell_type": "markdown",
   "metadata": {},
   "source": [
    "### 4.4 Cumulative sum of variance explained with [n] features"
   ]
  },
  {
   "cell_type": "code",
   "execution_count": 69,
   "metadata": {},
   "outputs": [
    {
     "data": {
      "text/plain": [
       "array([  50.5,   88.2,  100. ,  100. ,  100. ,  100. ,  100. ,  100. ,\n",
       "        100. ,  100. ,  100. ,  100. ,  100. ,  100. ,  100. ])"
      ]
     },
     "execution_count": 69,
     "metadata": {},
     "output_type": "execute_result"
    }
   ],
   "source": [
    "variance = np.cumsum(np.round(pca.explained_variance_ratio_, decimals=3)*100)\n",
    "variance"
   ]
  },
  {
   "cell_type": "markdown",
   "metadata": {},
   "source": [
    "### 4.5 Plot in graph"
   ]
  },
  {
   "cell_type": "code",
   "execution_count": 70,
   "metadata": {},
   "outputs": [
    {
     "data": {
      "text/plain": [
       "[<matplotlib.lines.Line2D at 0xc7313c8>]"
      ]
     },
     "execution_count": 70,
     "metadata": {},
     "output_type": "execute_result"
    },
    {
     "data": {
      "image/png": "[encoded data removed]",
      "text/plain": [
       "<matplotlib.figure.Figure at 0xcd27320>"
      ]
     },
     "metadata": {},
     "output_type": "display_data"
    }
   ],
   "source": [
    "plt.ylabel('% Variance Explained')\n",
    "plt.xlabel('# of Features')\n",
    "plt.title('PCA Analysis')\n",
    "plt.ylim(30,100.5)\n",
    "plt.style.context('seaborn-whitegrid')\n",
    "\n",
    "\n",
    "plt.plot(variance)"
   ]
  },
  {
   "cell_type": "markdown",
   "metadata": {},
   "source": [
    "### 4.6 New PCA with the best number of components (2)"
   ]
  },
  {
   "cell_type": "code",
   "execution_count": 71,
   "metadata": {},
   "outputs": [],
   "source": [
    "# \"rule of thumb\"\n",
    "pca = PCA(n_components=2)\n",
    "logistic = linear_model.LogisticRegression()\n",
    "pipeline = Pipeline(steps=[('pca', pca), ('logistic', logistic)])"
   ]
  },
  {
   "cell_type": "markdown",
   "metadata": {},
   "source": [
    "***\n",
    "## 5 Machine Learning"
   ]
  },
  {
   "cell_type": "markdown",
   "metadata": {},
   "source": [
    "### 5.1 Split dataset in train and test subsets"
   ]
  },
  {
   "cell_type": "code",
   "execution_count": 72,
   "metadata": {
    "collapsed": true
   },
   "outputs": [],
   "source": [
    "X_train, X_test, y_train, y_test = train_test_split(X, y, test_size=0.3, random_state=0)"
   ]
  },
  {
   "cell_type": "markdown",
   "metadata": {},
   "source": [
    "### 5.2 Fit model"
   ]
  },
  {
   "cell_type": "code",
   "execution_count": 73,
   "metadata": {},
   "outputs": [
    {
     "data": {
      "text/plain": [
       "Pipeline(memory=None,\n",
       "     steps=[('pca', PCA(copy=True, iterated_power='auto', n_components=2, random_state=None,\n",
       "  svd_solver='auto', tol=0.0, whiten=False)), ('logistic', LogisticRegression(C=1.0, class_weight=None, dual=False, fit_intercept=True,\n",
       "          intercept_scaling=1, max_iter=100, multi_class='ovr', n_jobs=1,\n",
       "          penalty='l2', random_state=None, solver='liblinear', tol=0.0001,\n",
       "          verbose=0, warm_start=False))])"
      ]
     },
     "execution_count": 73,
     "metadata": {},
     "output_type": "execute_result"
    }
   ],
   "source": [
    "pipeline.fit(X_train, y_train)"
   ]
  },
  {
   "cell_type": "markdown",
   "metadata": {},
   "source": [
    "### 5.3 Predict"
   ]
  },
  {
   "cell_type": "code",
   "execution_count": 74,
   "metadata": {
    "collapsed": true
   },
   "outputs": [],
   "source": [
    "y_pred = pipeline.predict(X_test)"
   ]
  },
  {
   "cell_type": "markdown",
   "metadata": {},
   "source": [
    "### 5.4 Evaluate results"
   ]
  },
  {
   "cell_type": "code",
   "execution_count": 75,
   "metadata": {},
   "outputs": [
    {
     "data": {
      "text/plain": [
       "0.58500222518914102"
      ]
     },
     "execution_count": 75,
     "metadata": {},
     "output_type": "execute_result"
    }
   ],
   "source": [
    "# Score\n",
    "pipeline.score(X_test, y_test)"
   ]
  },
  {
   "cell_type": "code",
   "execution_count": 76,
   "metadata": {},
   "outputs": [
    {
     "data": {
      "text/plain": [
       "0.58500222518914102"
      ]
     },
     "execution_count": 76,
     "metadata": {},
     "output_type": "execute_result"
    }
   ],
   "source": [
    "# F-measure\n",
    "f1_score(y_test, y_pred, average='micro')"
   ]
  },
  {
   "cell_type": "markdown",
   "metadata": {},
   "source": [
    "### 5.5 Confusion Matrix"
   ]
  },
  {
   "cell_type": "code",
   "execution_count": 77,
   "metadata": {},
   "outputs": [
    {
     "data": {
      "text/plain": [
       "array([[2220,  201],\n",
       "       [1664,  409]], dtype=int64)"
      ]
     },
     "execution_count": 77,
     "metadata": {},
     "output_type": "execute_result"
    }
   ],
   "source": [
    "# Confusion matrix\n",
    "cm = confusion_matrix(y_test, y_pred)\n",
    "cm"
   ]
  },
  {
   "cell_type": "code",
   "execution_count": 78,
   "metadata": {},
   "outputs": [
    {
     "name": "stdout",
     "output_type": "stream",
     "text": [
      "Normalized confusion matrix\n",
      "[[ 0.91697646  0.08302354]\n",
      " [ 0.8027014   0.1972986 ]]\n"
     ]
    }
   ],
   "source": [
    "# Normalized (%)\n",
    "cm_normalized = cm.astype('float') / cm.sum(axis=1)[:, np.newaxis]\n",
    "print('Normalized confusion matrix')\n",
    "print(cm_normalized)"
   ]
  },
  {
   "cell_type": "code",
   "execution_count": 79,
   "metadata": {},
   "outputs": [
    {
     "data": {
      "text/plain": [
       "Text(0.5,15,'Predicted label')"
      ]
     },
     "execution_count": 79,
     "metadata": {},
     "output_type": "execute_result"
    },
    {
     "data": {
      "image/png": "[encoded data removed]",
      "text/plain": [
       "<matplotlib.figure.Figure at 0xcd6aa20>"
      ]
     },
     "metadata": {},
     "output_type": "display_data"
    }
   ],
   "source": [
    "# Plot confusion matrix\n",
    "plt.imshow(cm, interpolation='nearest', cmap=plt.cm.Greens)\n",
    "plt.title('Confusion matrix')\n",
    "plt.colorbar()\n",
    "plt.tight_layout()\n",
    "plt.ylabel('True label')\n",
    "plt.xlabel('Predicted label')"
   ]
  },
  {
   "cell_type": "code",
   "execution_count": null,
   "metadata": {
    "collapsed": true
   },
   "outputs": [],
   "source": []
  }
 ],
 "metadata": {
  "kernelspec": {
   "display_name": "Python 3",
   "language": "python",
   "name": "python3"
  },
  "language_info": {
   "codemirror_mode": {
    "name": "ipython",
    "version": 3
   },
   "file_extension": ".py",
   "mimetype": "text/x-python",
   "name": "python",
   "nbconvert_exporter": "python",
   "pygments_lexer": "ipython3",
   "version": "3.6.3"
  }
 },
 "nbformat": 4,
 "nbformat_minor": 2
}
